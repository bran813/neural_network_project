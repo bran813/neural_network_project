{
 "cells": [
  {
   "cell_type": "code",
   "execution_count": null,
   "id": "b3aa1a33-393f-4298-b10f-7af7aeab5714",
   "metadata": {},
   "outputs": [],
   "source": [
    "import numpy as np\n",
    "import pandas as pd\n",
    "import matplotlib.pyplot as plt\n",
    "from sklearn.model_selection import train_test_split\n",
    "from sklearn.preprocessing import StandardScaler\n",
    "import tensorflow as tf\n",
    "import tensorflow_hub as hub\n",
    "from imblearn.over_sampling import RandomOverSampler\n",
    "\n",
    "plt.style.use('dark_background') \n",
    "\n",
    "def highlight_odd_rows(s):\n",
    "    styles = []\n",
    "    for i in range(len(s)):\n",
    "        if i % 2 == 1:\n",
    "            styles.append('background-color: indigo; border: 1px solid white;')\n",
    "        else:\n",
    "            styles.append('border: 1px solid white;')\n",
    "    return styles"
   ]
  },
  {
   "cell_type": "code",
   "execution_count": null,
   "id": "9cb8ff11-eab5-4abc-a9cd-fe3301942d4a",
   "metadata": {},
   "outputs": [],
   "source": [
    "df = pd.read_csv(\"wine-reviews.csv\", usecols = ['country', 'description', 'points', 'price', 'variety', 'winery'])"
   ]
  },
  {
   "cell_type": "code",
   "execution_count": null,
   "id": "bfbd517b-b020-4a9d-a9f4-75375a90e6b9",
   "metadata": {},
   "outputs": [],
   "source": [
    "df.head().style.apply(highlight_odd_rows)"
   ]
  },
  {
   "cell_type": "code",
   "execution_count": null,
   "id": "fde8c7f0-68aa-485d-895a-5d1f184612d8",
   "metadata": {},
   "outputs": [],
   "source": [
    "df = df.dropna(subset = [\"description\", \"points\"])"
   ]
  },
  {
   "cell_type": "code",
   "execution_count": null,
   "id": "dbb76bd1-931c-44a1-a33e-f15509bf4b1c",
   "metadata": {},
   "outputs": [],
   "source": [
    "plt.hist(df.points, bins=20)\n",
    "plt.show()"
   ]
  },
  {
   "cell_type": "code",
   "execution_count": null,
   "id": "6ef7313a-bb1c-406c-8804-71eb7e5bbe33",
   "metadata": {},
   "outputs": [],
   "source": [
    "df2 = pd.read_csv(\"diabetes.csv\")"
   ]
  },
  {
   "cell_type": "code",
   "execution_count": null,
   "id": "8429ba5f-b407-4a96-b9d2-86218dbb10fd",
   "metadata": {},
   "outputs": [],
   "source": [
    "df2.head().style.apply(highlight_odd_rows)"
   ]
  },
  {
   "cell_type": "code",
   "execution_count": null,
   "id": "979a368f-ad9f-4cc1-ace2-074c7f24380e",
   "metadata": {},
   "outputs": [],
   "source": [
    "scaler = StandardScaler()\n",
    "X = scaler.fit_transform(X)"
   ]
  },
  {
   "cell_type": "code",
   "execution_count": null,
   "id": "045a10a3-7f08-4496-b3b9-f494f5ff4b78",
   "metadata": {},
   "outputs": [],
   "source": [
    "over = RandomOverSampler()\n",
    "X, y = over.fit_resample(X, y)\n",
    "data = np.hstack((X, np.reshape(y,(-1,1))))\n",
    "transformed_df = pd.DataFrame(data, columns= df2.columns)"
   ]
  },
  {
   "cell_type": "code",
   "execution_count": null,
   "id": "1bba06f1-ed30-4481-8f5b-2e969a049fde",
   "metadata": {},
   "outputs": [],
   "source": [
    "len(transformed_df[transformed_df[\"Outcome\"]==1]),len(transformed_df[transformed_df[\"Outcome\"]==0])"
   ]
  },
  {
   "cell_type": "code",
   "execution_count": null,
   "id": "65116c3d-ef16-4f47-8e42-4eb44486385a",
   "metadata": {},
   "outputs": [],
   "source": [
    "for i in range(len(df2.columns[:-1])):\n",
    "    label = df2.columns[i]\n",
    "    plt.hist(df2[df2['Outcome']==1][label], color = 'lightblue', label = 'Diabetes', alpha = 0.7, density= True, bins =  15)\n",
    "    plt.hist(df2[df2['Outcome']==0][label], color = 'pink', label = \"No diabetes\", alpha = 0.7, density= True, bins =  15)\n",
    "    plt.title(label)\n",
    "    plt.ylabel(\"N\")\n",
    "    plt.xlabel(label)\n",
    "    plt.legend()\n",
    "    plt.show()"
   ]
  },
  {
   "cell_type": "code",
   "execution_count": null,
   "id": "4d1ab9f8-f683-4f71-b875-150e90639692",
   "metadata": {},
   "outputs": [],
   "source": [
    "X_train, X_temp, y_train, y_temp = train_test_split(X, y, test_size=0.4, random_state=0)\n",
    "X_valid, X_test, y_valid, y_test = train_test_split(X_temp, y_temp, test_size=0.5, random_state=0)"
   ]
  },
  {
   "cell_type": "code",
   "execution_count": null,
   "id": "d837e881-08f3-4d2b-9b26-0768a2f20656",
   "metadata": {},
   "outputs": [],
   "source": [
    "model = tf.keras.Sequential([\n",
    "    tf.keras.layers.Dense(16, activation='relu'),\n",
    "    tf.keras.layers.Dense(16, activation='relu'),\n",
    "    tf.keras.layers.Dense(1, activation='sigmoid')\n",
    "])"
   ]
  },
  {
   "cell_type": "code",
   "execution_count": null,
   "id": "8dd53683-6b3a-4e63-b879-9b52987d93e4",
   "metadata": {},
   "outputs": [],
   "source": [
    "model.compile(\n",
    "    optimizer = tf.keras.optimizers.Adam(learning_rate = 0.001), \n",
    "    loss = tf.keras.losses.BinaryCrossentropy(),\n",
    "    metrics = ['accuracy']\n",
    "             )"
   ]
  },
  {
   "cell_type": "code",
   "execution_count": null,
   "id": "d8ec3a8c-1b0a-4ca1-b4c3-e6c3caaab729",
   "metadata": {},
   "outputs": [],
   "source": [
    "model.evaluate(X_train, y_train)"
   ]
  },
  {
   "cell_type": "code",
   "execution_count": null,
   "id": "a58504ab-091c-42c1-9173-70a8d165cc60",
   "metadata": {},
   "outputs": [],
   "source": [
    "model.evaluate(X_valid, y_valid)"
   ]
  },
  {
   "cell_type": "code",
   "execution_count": null,
   "id": "22efae2e-f9cb-4de2-8a44-bd5ff9602082",
   "metadata": {},
   "outputs": [],
   "source": [
    "model.fit(X_train, y_train, batch_size = 16, epochs = 20, validation_data = (X_valid, y_valid))"
   ]
  },
  {
   "cell_type": "code",
   "execution_count": null,
   "id": "15af6deb-df92-43bf-9a32-dc5e772f5691",
   "metadata": {},
   "outputs": [],
   "source": [
    "model.evaluate(X_test, y_test)"
   ]
  },
  {
   "cell_type": "code",
   "execution_count": null,
   "id": "5b1f2120-8586-48e7-9864-f724b7737883",
   "metadata": {},
   "outputs": [],
   "source": []
  }
 ],
 "metadata": {
  "kernelspec": {
   "display_name": "neural1",
   "language": "python",
   "name": "neural1"
  },
  "language_info": {
   "codemirror_mode": {
    "name": "ipython",
    "version": 3
   },
   "file_extension": ".py",
   "mimetype": "text/x-python",
   "name": "python",
   "nbconvert_exporter": "python",
   "pygments_lexer": "ipython3",
   "version": "3.12.4"
  }
 },
 "nbformat": 4,
 "nbformat_minor": 5
}
